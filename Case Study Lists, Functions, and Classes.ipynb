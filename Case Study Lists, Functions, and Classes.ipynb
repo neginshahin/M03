{
 "cells": [
  {
   "cell_type": "markdown",
   "id": "87034b46",
   "metadata": {},
   "source": [
    "Negin Shahin\n",
    "M03 Lab - Case Study: Lists, Functions, and Classes\n",
    "This app will accept user input for car information like the year, make, model, doors, and the type of roof. Then prints the output of the data in an understandable format."
   ]
  },
  {
   "cell_type": "code",
   "execution_count": 1,
   "id": "2f640092",
   "metadata": {},
   "outputs": [
    {
     "name": "stdout",
     "output_type": "stream",
     "text": [
      "Enter Vehicle Type: Car\n",
      "Enter Year: 2022\n",
      "Enter Make: Toyota\n",
      "Enter Model: Corolla\n",
      "Enter Number of doors: 4\n",
      "Enter Type of roof: Sun roof\n",
      "\n",
      "Vehicle Type:  Car \n",
      "Year:  2022 \n",
      "Make:  Toyota \n",
      "Model:  Corolla \n",
      "No of Doors:  4 \n",
      "Roof Type:  Sun roof\n"
     ]
    }
   ],
   "source": [
    "class Vehicle:\n",
    "    def __init__(self, v_type):\n",
    "        self.v_type = v_type\n",
    "        \n",
    "        \n",
    "class Automobile(Vehicle):\n",
    "    def __init__(self, v_type, year, make, model, doors, roof):\n",
    "        Vehicle.__init__(self, v_type)\n",
    "        self.year = year\n",
    "        self.make = make\n",
    "        self.model = model\n",
    "        self.doors = doors\n",
    "        self.roof = roof\n",
    "        \n",
    "\n",
    "v_type = input (\"Enter Vehicle Type: \")\n",
    "year = input (\"Enter Year: \")\n",
    "make = input (\"Enter Make: \")\n",
    "model = input (\"Enter Model: \")\n",
    "doors = input (\"Enter Number of doors: \")\n",
    "roof = input (\"Enter Type of roof: \")\n",
    "car = Automobile (v_type, year, make, model, doors, roof)\n",
    "print (\"\\nVehicle Type: \", car.v_type, \"\\nYear: \" , car.year, \"\\nMake: \", car.make, \"\\nModel: \", car.model, \\\n",
    "           \"\\nNo of Doors: \", car.doors, \"\\nRoof Type: \", car.roof)"
   ]
  }
 ],
 "metadata": {
  "kernelspec": {
   "display_name": "Python 3 (ipykernel)",
   "language": "python",
   "name": "python3"
  },
  "language_info": {
   "codemirror_mode": {
    "name": "ipython",
    "version": 3
   },
   "file_extension": ".py",
   "mimetype": "text/x-python",
   "name": "python",
   "nbconvert_exporter": "python",
   "pygments_lexer": "ipython3",
   "version": "3.11.5"
  }
 },
 "nbformat": 4,
 "nbformat_minor": 5
}
