{
 "cells": [
  {
   "cell_type": "markdown",
   "id": "a58a542b",
   "metadata": {},
   "source": [
    "Your Task:\n",
    "You don't need to read input or print anything. Your task is to complete the function sort012() that takes an array arr and N as input parameters and sorts the array in-place."
   ]
  },
  {
   "cell_type": "code",
   "execution_count": 1,
   "id": "5e0b4611",
   "metadata": {},
   "outputs": [],
   "source": [
    "class Solution:\n",
    "    def sort012(self, arr, n):\n",
    "        low  = 0\n",
    "        mid = 0\n",
    "        high = n-1\n",
    "        \n",
    "        while mid <= high:\n",
    "            if arr[mid] == 0:\n",
    "                arr[mid], arr[low] = arr[low], arr[mid]\n",
    "                mid += 1\n",
    "                low += 1\n",
    "            elif arr[mid] == 1:\n",
    "                mid += 1\n",
    "            else:\n",
    "                arr[mid], arr[high] = arr[high], arr[mid]\n",
    "                high -= 1"
   ]
  },
  {
   "cell_type": "markdown",
   "id": "f065512d",
   "metadata": {},
   "source": [
    "Your Task:  \n",
    "You dont need to read input or print anything. Complete the function binarysearch() which takes arr[], N and K as input parameters and returns the index of K in the array. If K is not present in the array, return -1."
   ]
  },
  {
   "cell_type": "code",
   "execution_count": 1,
   "id": "9d23c319",
   "metadata": {},
   "outputs": [],
   "source": [
    "class Solution: \n",
    "    def bin_search(self, arr, low, high, k):\n",
    "        if low <= high:\n",
    "            mid = (low + high) // 2\n",
    "            \n",
    "            if arr[mid] == k:\n",
    "                return mid\n",
    "            \n",
    "            elif arr[mid] < k:\n",
    "                return self.bin_search(arr, mid+1, high, k)\n",
    "            else:\n",
    "                return self.bin_search(arr, low, mid-1, k)\n",
    "            \n",
    "        else:\n",
    "            return -1"
   ]
  }
 ],
 "metadata": {
  "kernelspec": {
   "display_name": "Python 3 (ipykernel)",
   "language": "python",
   "name": "python3"
  },
  "language_info": {
   "codemirror_mode": {
    "name": "ipython",
    "version": 3
   },
   "file_extension": ".py",
   "mimetype": "text/x-python",
   "name": "python",
   "nbconvert_exporter": "python",
   "pygments_lexer": "ipython3",
   "version": "3.11.5"
  }
 },
 "nbformat": 4,
 "nbformat_minor": 5
}
